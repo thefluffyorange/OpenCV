{
 "cells": [
  {
   "cell_type": "markdown",
   "metadata": {},
   "source": [
    "# OpenCV Tutorial 1"
   ]
  },
  {
   "cell_type": "markdown",
   "metadata": {},
   "source": [
    "## Importing Image"
   ]
  },
  {
   "cell_type": "markdown",
   "metadata": {},
   "source": [
    "v2 can open jpg and png and possibly svg files\n",
    "<br>By default cv2 is going to load your image in BGR colour pallete\n",
    "<br>All we do is need to tell python where the image is located and format we want it in\n",
    "<br>We can choose between greyscale, regular coloured image, without considering transparency"
   ]
  },
  {
   "cell_type": "code",
   "execution_count": 1,
   "metadata": {},
   "outputs": [
    {
     "data": {
      "text/plain": [
       "'\\ncv2.IMREAD_COLOUR (-1) # loads a colour image, any transparency will be neglected\\ncv2.IMREAD_GREYSCALE (0) # loads an image in grey scale mode\\ncv2.IMREAD_UNCHANGED (1) # loads an image as such including alpha channel (if it has transparency it will honour that)\\n'"
      ]
     },
     "execution_count": 1,
     "metadata": {},
     "output_type": "execute_result"
    }
   ],
   "source": [
    "import cv2\n",
    "img = cv2.imread('assets/image.jpeg', 0)     # this is loading the image\n",
    "\n",
    "\"\"\"\n",
    "cv2.IMREAD_COLOUR (-1) # loads a colour image, any transparency will be neglected\n",
    "cv2.IMREAD_GREYSCALE (0) # loads an image in grey scale mode\n",
    "cv2.IMREAD_UNCHANGED (1) # loads an image as such including alpha channel (if it has transparency it will honour that)\n",
    "\"\"\"\n"
   ]
  },
  {
   "cell_type": "markdown",
   "metadata": {},
   "source": [
    "## Displaying Image"
   ]
  },
  {
   "cell_type": "code",
   "execution_count": 2,
   "metadata": {},
   "outputs": [],
   "source": [
    "# this is the code for showing the image, all we need to do is input the name of the image\n",
    "cv2.imshow('image',img)\n",
    "\n",
    "img = cv2.resize(img, (400, 400))\n",
    "\n",
    "cv2.waitKey(10) \n",
    "# this is used to wait 10s or wait for a key to be pressed (whatever happens first) and then remove the picture\n",
    "# if we set it to 0 then it will wait infinitely until a key is pressed\n",
    "cv2.destroyAllWindows()\n",
    "# this will destroy the image pop up"
   ]
  }
 ],
 "metadata": {
  "kernelspec": {
   "display_name": "Python 3.11.0 64-bit",
   "language": "python",
   "name": "python3"
  },
  "language_info": {
   "codemirror_mode": {
    "name": "ipython",
    "version": 3
   },
   "file_extension": ".py",
   "mimetype": "text/x-python",
   "name": "python",
   "nbconvert_exporter": "python",
   "pygments_lexer": "ipython3",
   "version": "3.11.0"
  },
  "orig_nbformat": 4,
  "vscode": {
   "interpreter": {
    "hash": "aee8b7b246df8f9039afb4144a1f6fd8d2ca17a180786b69acc140d282b71a49"
   }
  }
 },
 "nbformat": 4,
 "nbformat_minor": 2
}
